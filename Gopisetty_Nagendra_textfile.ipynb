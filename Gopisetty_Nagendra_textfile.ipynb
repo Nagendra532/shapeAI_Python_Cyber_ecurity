{
  "nbformat": 4,
  "nbformat_minor": 0,
  "metadata": {
    "colab": {
      "name": "Gopisetty_Nagendra.textfile",
      "provenance": []
    },
    "kernelspec": {
      "name": "python3",
      "display_name": "Python 3"
    },
    "language_info": {
      "name": "python"
    }
  },
  "cells": [
    {
      "cell_type": "code",
      "metadata": {
        "id": "UQINCadTR9NQ",
        "colab": {
          "base_uri": "https://localhost:8080/"
        },
        "outputId": "17c4375d-aca3-4a95-81ff-457dc7aabfef"
      },
      "source": [
        " import requests\n",
        "from datetime import datetime\n",
        "api_key = '87d845b0b6cf29baa1a73cc34b067a95'\n",
        "location = input(\"Enter the city name: \")\n",
        " \n",
        " \n",
        "complete_api_link = \"https://api.openweathermap.org/data/2.5/weather?q=\"+location+\"&appid=\"+api_key\n",
        "api_link = requests.get(complete_api_link)\n",
        "api_data = api_link.json()\n",
        " \n",
        "temp_city = ((api_data['main']['temp']) - 273.15)\n",
        "weather_desc = api_data['weather'][0]['description']\n",
        "hmdt = api_data['main']['humidity']\n",
        "wind_spd = api_data['wind']['speed']\n",
        "date_time = datetime.now().strftime(\"%d %b %Y | %I:%M:%S %p\")\n",
        " \n",
        "print (\"-------------------------------------------------------------\")\n",
        "print (\"Weather Stats for - {}  || {}\".format(location.upper(), date_time))\n",
        "print (\"-------------------------------------------------------------\")\n",
        " \n",
        " \n",
        "print (\"Current temperature is: {:.2f} deg C\".format(temp_city))\n",
        "print (\"Current weather desc  :\",weather_desc)\n",
        "print (\"Current Humidity      :\",hmdt, '%')\n",
        "print (\"Current wind speed    :\",wind_spd ,'kmph')"
      ],
      "execution_count": 1,
      "outputs": [
        {
          "output_type": "stream",
          "text": [
            "Enter the city name: kurnool\n",
            "-------------------------------------------------------------\n",
            "Weather Stats for - KURNOOL  || 21 Jun 2021 | 06:06:43 PM\n",
            "-------------------------------------------------------------\n",
            "Current temperature is: 31.44 deg C\n",
            "Current weather desc  : overcast clouds\n",
            "Current Humidity      : 43 %\n",
            "Current wind speed    : 8.04 kmph\n"
          ],
          "name": "stdout"
        }
      ]
    }
  ]
}